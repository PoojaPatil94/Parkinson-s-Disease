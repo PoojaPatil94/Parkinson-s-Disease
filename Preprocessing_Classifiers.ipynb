# importing libraries
import numpy as np # for methametical operations 
import matplotlib.pyplot as plot # to plot charts
import pandas as pd # to import and manage dataset 
from sklearn.metrics import accuracy_score 
from sklearn.metrics import classification_report 

dataset = pd.read_csv('C:/Users/hiiii/Desktop/UCM SPRING 2020/Artificial Intelligence/Project/parkinsons.data.csv')
dataset.info()
# X = dataset.iloc[:, :-17:].values
X = dataset.drop(['status', 'name'], axis=1)
#X = dataset.drop(['name'], axis=1)
Y = dataset.iloc[:, 17].values

# Bar plot for Class variable
import seaborn as sb
sb.countplot(dataset['status'].values)
plot.xlabel('Class Values')
plot.ylabel('Class Counts')
plot.show()

from sklearn.model_selection import train_test_split
X_train, X_test, y_train, y_test = train_test_split(X, Y, test_size = 0.30, random_state = 0)

# Feature Scaling
from sklearn.preprocessing import StandardScaler
ssc = StandardScaler()
X_train = ssc.fit_transform(X_train)
X_test = ssc.transform(X_test)

#plot correlation heatmap plot
import seaborn #import seaborn as heatmap
corr = X.corr() 
plot.figure(figsize=(8,8))
seaborn.heatmap(X.corr(), annot=True, cmap="coolwarm").set_title('Heatmap for Parkinsons dataset')

# Feature selection as per Corrrelation value (>=0.9)
df = pd.DataFrame(X) 
X= df[['spread1', 'PPE', 'MDVP:Jitter(%)','MDVP:Jitter(Abs)', 'MDVP:RAP','MDVP:PPQ','Jitter:DDP','MDVP:Shimmer', 'MDVP:Shimmer(dB)', 'Shimmer:APQ3', 'Shimmer:APQ5','MDVP:APQ', 'Shimmer:DDA' ]] 
X.info()
from sklearn.model_selection import train_test_split
X_train, X_test, y_train, y_test = train_test_split(X, Y, test_size = 0.30, random_state = 0)
# Feature Scaling
from sklearn.preprocessing import StandardScaler
ssc = StandardScaler()
X_train = ssc.fit_transform(X_train)
X_test = ssc.transform(X_test)

print ('---------------------------------------------------------------------------')
# Naive-Bayes classifier
from sklearn.naive_bayes import GaussianNB
nb = GaussianNB()
nb.fit(X_train,y_train) 
# Predicting the Test set results
y_pred = nb.predict(X_test)
# Confusion-Matrix
from sklearn.metrics import confusion_matrix
cm = confusion_matrix(y_test, y_pred)
print("Confusion matrix of Naive Bayer -------")
print(cm)
print ('Accuracy Score :')
print(accuracy_score(y_test, y_pred) ) 
print ('Report : ')
print ( classification_report(y_test, y_pred) ) 

print ('---------------------------------------------------------------------------')
# KNN classifier
from sklearn.neighbors import KNeighborsClassifier
knn = KNeighborsClassifier(n_neighbors=5, metric='minkowski', p=2)
knn.fit(X_train,y_train)
y_pred = knn.predict(X_test)
from sklearn.metrics import confusion_matrix
cm = confusion_matrix(y_test, y_pred)
print("Confusion matrix of KNN -------")
print(cm)
print ('Accuracy Score :')
print(accuracy_score(y_test, y_pred) ) 
print ('Report : ')
print ( classification_report(y_test, y_pred) ) 

print ('---------------------------------------------------------------------------')
# SVM classifier
from sklearn.svm import SVC
svm = SVC(kernel='linear', random_state=0)
svm.fit(X_train, y_train)
y_pred = svm.predict(X_test)
from sklearn.metrics import confusion_matrix
cm = confusion_matrix(y_test, y_pred)
print("Confusion matrix of SVM -------")
print(cm)
print ('Accuracy Score :')
print(accuracy_score(y_test, y_pred) ) 
print ('Report : ')
print ( classification_report(y_test, y_pred) ) 

print ('---------------------------------------------------------------------------')
# Kernel SVM classifier
from sklearn.svm import SVC
ksvm = SVC(kernel='rbf', random_state=0)
ksvm.fit(X_train, y_train)
y_pred = ksvm.predict(X_test)
from sklearn.metrics import confusion_matrix
cm = confusion_matrix(y_test, y_pred)
print("Confusion matrix of Kernel SVM -------")
print(cm)
print ('Accuracy Score :')
print(accuracy_score(y_test, y_pred) ) 
print ('Report : ')
print ( classification_report(y_test, y_pred) ) 

 


